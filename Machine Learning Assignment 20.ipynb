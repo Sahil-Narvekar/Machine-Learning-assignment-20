{
 "cells": [
  {
   "cell_type": "code",
   "execution_count": null,
   "metadata": {},
   "outputs": [],
   "source": [
    "1. What is the underlying concept of Support Vector Machines?"
   ]
  },
  {
   "cell_type": "code",
   "execution_count": null,
   "metadata": {},
   "outputs": [],
   "source": [
    "“Support Vector Machine” (SVM) is a supervised machine learning algorithm which can be used for both \n",
    "classification or regression challenges. However,  it is mostly used in classification problems. In the \n",
    "SVM algorithm, we plot each data item as a point in n-dimensional space (where n is number of features you\n",
    "have) with the value of each feature being the value of a particular coordinate. Then, we perform \n",
    "classification by finding the hyper-plane that differentiates the two classes very well.\n",
    "Support Vectors are simply the co-ordinates of individual observation. The SVM classifier is a frontier \n",
    "which best segregates the two classes (hyper-plane/ line)."
   ]
  },
  {
   "cell_type": "code",
   "execution_count": null,
   "metadata": {},
   "outputs": [],
   "source": [
    "2. What is the concept of a support vector?"
   ]
  },
  {
   "cell_type": "code",
   "execution_count": null,
   "metadata": {},
   "outputs": [],
   "source": [
    "Support vectors are data points that are closer to the hyperplane and influence the position and \n",
    "orientation of the hyperplane. Using these support vectors, we maximize the margin of the classifier. \n",
    "Deleting the support vectors will change the position of the hyperplane. These are the points that help us\n",
    "build our SVM."
   ]
  },
  {
   "cell_type": "code",
   "execution_count": null,
   "metadata": {},
   "outputs": [],
   "source": [
    "3. When using SVMs, why is it necessary to scale the inputs?"
   ]
  },
  {
   "cell_type": "code",
   "execution_count": null,
   "metadata": {},
   "outputs": [],
   "source": [
    "Because Support Vector Machine (SVM) optimization occurs by minimizing the decision vector w, the optimal\n",
    "hyperplane is influenced by the scale of the input features and it’s therefore recommended that data be \n",
    "standardized (mean 0, var 1) prior to SVM model training.\n",
    "Advantage of scaling is to avoid attributes in greater numeric ranges dominating those in smaller \n",
    "numeric ranges. Another advantage is to avoid numerical difficulties during the kernel calculation."
   ]
  },
  {
   "cell_type": "code",
   "execution_count": null,
   "metadata": {},
   "outputs": [],
   "source": []
  }
 ],
 "metadata": {
  "kernelspec": {
   "display_name": "Python 3",
   "language": "python",
   "name": "python3"
  },
  "language_info": {
   "codemirror_mode": {
    "name": "ipython",
    "version": 3
   },
   "file_extension": ".py",
   "mimetype": "text/x-python",
   "name": "python",
   "nbconvert_exporter": "python",
   "pygments_lexer": "ipython3",
   "version": "3.8.3"
  }
 },
 "nbformat": 4,
 "nbformat_minor": 4
}
